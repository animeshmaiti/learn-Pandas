{
 "cells": [
  {
   "cell_type": "code",
   "execution_count": 1,
   "metadata": {},
   "outputs": [],
   "source": [
    "import pandas as pd"
   ]
  },
  {
   "cell_type": "code",
   "execution_count": 20,
   "metadata": {},
   "outputs": [
    {
     "name": "stderr",
     "output_type": "stream",
     "text": [
      "/tmp/ipykernel_1767/507115948.py:2: UserWarning: Could not infer format, so each element will be parsed individually, falling back to `dateutil`. To ensure parsing is consistent and as-expected, please specify a format.\n",
      "  pd.to_datetime(dates, errors='coerce')\n"
     ]
    },
    {
     "data": {
      "text/plain": [
       "DatetimeIndex(['2023-01-05 14:30:00', '2020-01-15 14:23:00',\n",
       "               '2019-01-05 00:00:00', '2023-01-05 00:00:00',\n",
       "               '2023-01-05 00:00:00',                 'NaT'],\n",
       "              dtype='datetime64[ns]', freq=None)"
      ]
     },
     "execution_count": 20,
     "metadata": {},
     "output_type": "execute_result"
    }
   ],
   "source": [
    "dates=['2023-01-05 2:30:00 PM', 'jan 15, 2020 14:23:00','01/05/19','2023.01.05','20230105','abc']\n",
    "pd.to_datetime(dates, errors='coerce') #coerce will convert the invalid string dates to NaT"
   ]
  },
  {
   "cell_type": "markdown",
   "metadata": {},
   "source": [
    "date format by default is `YYYY-DD-MM`/`MM-DD-YYYY(US)`, but you can change it to any format you want."
   ]
  },
  {
   "cell_type": "code",
   "execution_count": 12,
   "metadata": {},
   "outputs": [
    {
     "name": "stdout",
     "output_type": "stream",
     "text": [
      "2024-05-01 00:00:00\n",
      "Wednesday\n",
      "2024-01-05 00:00:00\n",
      "Friday\n"
     ]
    }
   ],
   "source": [
    "yyyy_dd_mm=pd.to_datetime('5/1/2024') # 1st May 2024\n",
    "print(yyyy_dd_mm)\n",
    "print(yyyy_dd_mm.strftime('%A')) # %A returns the day of the week\n",
    "yyyy_mm_dd=pd.to_datetime('5/1/2024', dayfirst=True) # 5th January 2024\n",
    "print(yyyy_mm_dd)\n",
    "print(yyyy_mm_dd.strftime('%A'))"
   ]
  },
  {
   "cell_type": "code",
   "execution_count": 16,
   "metadata": {},
   "outputs": [
    {
     "data": {
      "text/plain": [
       "Timestamp('2023-05-01 00:00:00')"
      ]
     },
     "execution_count": 16,
     "metadata": {},
     "output_type": "execute_result"
    }
   ],
   "source": [
    "pd.to_datetime('2023$01$05', format='%Y$%d$%m') # 5th January 2023 any format"
   ]
  },
  {
   "cell_type": "markdown",
   "metadata": {},
   "source": [
    "### Epoch Time\n",
    "by default, the epoch time is in nano seconds."
   ]
  },
  {
   "cell_type": "code",
   "execution_count": 24,
   "metadata": {},
   "outputs": [
    {
     "name": "stdout",
     "output_type": "stream",
     "text": [
      "DatetimeIndex(['2024-05-05 17:10:02'], dtype='datetime64[ns]', freq=None)\n"
     ]
    },
    {
     "data": {
      "text/plain": [
       "DatetimeIndex(['2024-05-05 17:10:02'], dtype='datetime64[ns]', freq=None)"
      ]
     },
     "execution_count": 24,
     "metadata": {},
     "output_type": "execute_result"
    }
   ],
   "source": [
    "t=1714929002 # timestamp is in seconds\n",
    "tns=1714929002000000000 # timestamp is in nano seconds\n",
    "dt1=pd.to_datetime([tns])\n",
    "print(dt1)\n",
    "dt=pd.to_datetime([t], unit='s') # 2024-01-05 09:10:02 unit='s' is seconds\n",
    "dt"
   ]
  },
  {
   "cell_type": "code",
   "execution_count": 25,
   "metadata": {},
   "outputs": [
    {
     "data": {
      "text/plain": [
       "array([1714929002000000000])"
      ]
     },
     "execution_count": 25,
     "metadata": {},
     "output_type": "execute_result"
    }
   ],
   "source": [
    "# convert back to timestamp\n",
    "dt.view('int64') # 1714929002000000000"
   ]
  }
 ],
 "metadata": {
  "kernelspec": {
   "display_name": "base",
   "language": "python",
   "name": "python3"
  },
  "language_info": {
   "codemirror_mode": {
    "name": "ipython",
    "version": 3
   },
   "file_extension": ".py",
   "mimetype": "text/x-python",
   "name": "python",
   "nbconvert_exporter": "python",
   "pygments_lexer": "ipython3",
   "version": "3.10.13"
  }
 },
 "nbformat": 4,
 "nbformat_minor": 2
}
