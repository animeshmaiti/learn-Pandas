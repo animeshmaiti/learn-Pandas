{
 "cells": [
  {
   "cell_type": "code",
   "execution_count": 2,
   "metadata": {},
   "outputs": [],
   "source": [
    "import pandas as pd"
   ]
  },
  {
   "cell_type": "code",
   "execution_count": 7,
   "metadata": {},
   "outputs": [
    {
     "data": {
      "text/html": [
       "<div>\n",
       "<style scoped>\n",
       "    .dataframe tbody tr th:only-of-type {\n",
       "        vertical-align: middle;\n",
       "    }\n",
       "\n",
       "    .dataframe tbody tr th {\n",
       "        vertical-align: top;\n",
       "    }\n",
       "\n",
       "    .dataframe thead th {\n",
       "        text-align: right;\n",
       "    }\n",
       "</style>\n",
       "<table border=\"1\" class=\"dataframe\">\n",
       "  <thead>\n",
       "    <tr style=\"text-align: right;\">\n",
       "      <th></th>\n",
       "      <th>Open</th>\n",
       "      <th>High</th>\n",
       "      <th>Low</th>\n",
       "      <th>Close</th>\n",
       "      <th>Volume</th>\n",
       "    </tr>\n",
       "  </thead>\n",
       "  <tbody>\n",
       "    <tr>\n",
       "      <th>0</th>\n",
       "      <td>136.60</td>\n",
       "      <td>137.33</td>\n",
       "      <td>135.76</td>\n",
       "      <td>137.27</td>\n",
       "      <td>52485781</td>\n",
       "    </tr>\n",
       "    <tr>\n",
       "      <th>1</th>\n",
       "      <td>137.90</td>\n",
       "      <td>140.00</td>\n",
       "      <td>137.75</td>\n",
       "      <td>139.96</td>\n",
       "      <td>78945572</td>\n",
       "    </tr>\n",
       "    <tr>\n",
       "      <th>2</th>\n",
       "      <td>140.07</td>\n",
       "      <td>143.15</td>\n",
       "      <td>140.07</td>\n",
       "      <td>142.02</td>\n",
       "      <td>108181793</td>\n",
       "    </tr>\n",
       "    <tr>\n",
       "      <th>3</th>\n",
       "      <td>143.54</td>\n",
       "      <td>144.89</td>\n",
       "      <td>142.66</td>\n",
       "      <td>144.57</td>\n",
       "      <td>104911589</td>\n",
       "    </tr>\n",
       "    <tr>\n",
       "      <th>4</th>\n",
       "      <td>141.58</td>\n",
       "      <td>144.06</td>\n",
       "      <td>140.67</td>\n",
       "      <td>143.24</td>\n",
       "      <td>105575458</td>\n",
       "    </tr>\n",
       "  </tbody>\n",
       "</table>\n",
       "</div>"
      ],
      "text/plain": [
       "     Open    High     Low   Close     Volume\n",
       "0  136.60  137.33  135.76  137.27   52485781\n",
       "1  137.90  140.00  137.75  139.96   78945572\n",
       "2  140.07  143.15  140.07  142.02  108181793\n",
       "3  143.54  144.89  142.66  144.57  104911589\n",
       "4  141.58  144.06  140.67  143.24  105575458"
      ]
     },
     "execution_count": 7,
     "metadata": {},
     "output_type": "execute_result"
    }
   ],
   "source": [
    "df = pd.read_csv('jul-2021.csv')\n",
    "df.head()"
   ]
  },
  {
   "cell_type": "code",
   "execution_count": 4,
   "metadata": {},
   "outputs": [
    {
     "data": {
      "text/plain": [
       "DatetimeIndex(['2021-07-01', '2021-07-02', '2021-07-05', '2021-07-06',\n",
       "               '2021-07-07', '2021-07-08', '2021-07-09', '2021-07-12',\n",
       "               '2021-07-13', '2021-07-14', '2021-07-15', '2021-07-16',\n",
       "               '2021-07-19', '2021-07-20', '2021-07-21', '2021-07-22',\n",
       "               '2021-07-23', '2021-07-26', '2021-07-27', '2021-07-28',\n",
       "               '2021-07-29', '2021-07-30'],\n",
       "              dtype='datetime64[ns]', freq='B')"
      ]
     },
     "execution_count": 4,
     "metadata": {},
     "output_type": "execute_result"
    }
   ],
   "source": [
    "pd.date_range(start='2021-07-01', end='2021-07-31', freq='B')"
   ]
  },
  {
   "cell_type": "code",
   "execution_count": 5,
   "metadata": {},
   "outputs": [],
   "source": [
    "from pandas.tseries.holiday import USFederalHolidayCalendar\n",
    "from pandas.tseries.offsets import CustomBusinessDay"
   ]
  },
  {
   "cell_type": "code",
   "execution_count": 6,
   "metadata": {},
   "outputs": [
    {
     "data": {
      "text/plain": [
       "<CustomBusinessDay>"
      ]
     },
     "execution_count": 6,
     "metadata": {},
     "output_type": "execute_result"
    }
   ],
   "source": [
    "usb = CustomBusinessDay(calendar=USFederalHolidayCalendar())\n",
    "usb"
   ]
  },
  {
   "cell_type": "code",
   "execution_count": 9,
   "metadata": {},
   "outputs": [
    {
     "data": {
      "text/plain": [
       "DatetimeIndex(['2021-07-01', '2021-07-02', '2021-07-06', '2021-07-07',\n",
       "               '2021-07-08', '2021-07-09', '2021-07-12', '2021-07-13',\n",
       "               '2021-07-14', '2021-07-15', '2021-07-16', '2021-07-19',\n",
       "               '2021-07-20', '2021-07-21', '2021-07-22', '2021-07-23',\n",
       "               '2021-07-26', '2021-07-27', '2021-07-28', '2021-07-29',\n",
       "               '2021-07-30'],\n",
       "              dtype='datetime64[ns]', freq='C')"
      ]
     },
     "execution_count": 9,
     "metadata": {},
     "output_type": "execute_result"
    }
   ],
   "source": [
    "rng=pd.date_range(start='2021-07-01', end='2021-07-31', freq=usb)\n",
    "rng"
   ]
  },
  {
   "cell_type": "code",
   "execution_count": 11,
   "metadata": {},
   "outputs": [
    {
     "data": {
      "text/html": [
       "<div>\n",
       "<style scoped>\n",
       "    .dataframe tbody tr th:only-of-type {\n",
       "        vertical-align: middle;\n",
       "    }\n",
       "\n",
       "    .dataframe tbody tr th {\n",
       "        vertical-align: top;\n",
       "    }\n",
       "\n",
       "    .dataframe thead th {\n",
       "        text-align: right;\n",
       "    }\n",
       "</style>\n",
       "<table border=\"1\" class=\"dataframe\">\n",
       "  <thead>\n",
       "    <tr style=\"text-align: right;\">\n",
       "      <th></th>\n",
       "      <th>Open</th>\n",
       "      <th>High</th>\n",
       "      <th>Low</th>\n",
       "      <th>Close</th>\n",
       "      <th>Volume</th>\n",
       "    </tr>\n",
       "  </thead>\n",
       "  <tbody>\n",
       "    <tr>\n",
       "      <th>2021-07-01</th>\n",
       "      <td>136.60</td>\n",
       "      <td>137.33</td>\n",
       "      <td>135.76</td>\n",
       "      <td>137.27</td>\n",
       "      <td>52485781</td>\n",
       "    </tr>\n",
       "    <tr>\n",
       "      <th>2021-07-02</th>\n",
       "      <td>137.90</td>\n",
       "      <td>140.00</td>\n",
       "      <td>137.75</td>\n",
       "      <td>139.96</td>\n",
       "      <td>78945572</td>\n",
       "    </tr>\n",
       "    <tr>\n",
       "      <th>2021-07-06</th>\n",
       "      <td>140.07</td>\n",
       "      <td>143.15</td>\n",
       "      <td>140.07</td>\n",
       "      <td>142.02</td>\n",
       "      <td>108181793</td>\n",
       "    </tr>\n",
       "    <tr>\n",
       "      <th>2021-07-07</th>\n",
       "      <td>143.54</td>\n",
       "      <td>144.89</td>\n",
       "      <td>142.66</td>\n",
       "      <td>144.57</td>\n",
       "      <td>104911589</td>\n",
       "    </tr>\n",
       "    <tr>\n",
       "      <th>2021-07-08</th>\n",
       "      <td>141.58</td>\n",
       "      <td>144.06</td>\n",
       "      <td>140.67</td>\n",
       "      <td>143.24</td>\n",
       "      <td>105575458</td>\n",
       "    </tr>\n",
       "  </tbody>\n",
       "</table>\n",
       "</div>"
      ],
      "text/plain": [
       "              Open    High     Low   Close     Volume\n",
       "2021-07-01  136.60  137.33  135.76  137.27   52485781\n",
       "2021-07-02  137.90  140.00  137.75  139.96   78945572\n",
       "2021-07-06  140.07  143.15  140.07  142.02  108181793\n",
       "2021-07-07  143.54  144.89  142.66  144.57  104911589\n",
       "2021-07-08  141.58  144.06  140.67  143.24  105575458"
      ]
     },
     "execution_count": 11,
     "metadata": {},
     "output_type": "execute_result"
    }
   ],
   "source": [
    "df.set_index(rng, inplace=True)\n",
    "df.head()"
   ]
  },
  {
   "cell_type": "markdown",
   "metadata": {},
   "source": [
    "[custom calender function](https://github.com/pandas-dev/pandas/blob/main/pandas/tseries/holiday.py#L602)\n",
    "\n",
    "`observance=nearest_workday` is used to get the nearest workday if the holiday falls on a weekend."
   ]
  },
  {
   "cell_type": "code",
   "execution_count": 18,
   "metadata": {},
   "outputs": [
    {
     "data": {
      "text/plain": [
       "<CustomBusinessDay>"
      ]
     },
     "execution_count": 18,
     "metadata": {},
     "output_type": "execute_result"
    }
   ],
   "source": [
    "from pandas.tseries.holiday import AbstractHolidayCalendar, nearest_workday, Holiday\n",
    "class MyCutomCalender(AbstractHolidayCalendar):\n",
    "    \"\"\"\n",
    "    US Federal Government Holiday Calendar based on rules specified by:\n",
    "    https://www.opm.gov/policy-data-oversight/pay-leave/federal-holidays/\n",
    "    \"\"\"\n",
    "\n",
    "    rules = [\n",
    "        Holiday(\"My holiday\", month=2, day=15), # observance=nearest_workday),\n",
    "    ]\n",
    "myc = CustomBusinessDay(calendar=MyCutomCalender())\n",
    "myc"
   ]
  },
  {
   "cell_type": "code",
   "execution_count": 19,
   "metadata": {},
   "outputs": [
    {
     "data": {
      "text/plain": [
       "DatetimeIndex(['2024-02-01', '2024-02-02', '2024-02-05', '2024-02-06',\n",
       "               '2024-02-07', '2024-02-08', '2024-02-09', '2024-02-12',\n",
       "               '2024-02-13', '2024-02-14', '2024-02-16', '2024-02-19',\n",
       "               '2024-02-20', '2024-02-21', '2024-02-22', '2024-02-23',\n",
       "               '2024-02-26', '2024-02-27', '2024-02-28', '2024-02-29'],\n",
       "              dtype='datetime64[ns]', freq='C')"
      ]
     },
     "execution_count": 19,
     "metadata": {},
     "output_type": "execute_result"
    }
   ],
   "source": [
    "cust_rng=pd.date_range(start='2024-02-01', end='2024-02-29', freq=myc)\n",
    "cust_rng"
   ]
  },
  {
   "cell_type": "markdown",
   "metadata": {},
   "source": [
    "### Custom weekend"
   ]
  },
  {
   "cell_type": "code",
   "execution_count": 20,
   "metadata": {},
   "outputs": [
    {
     "data": {
      "text/plain": [
       "DatetimeIndex(['2024-02-01', '2024-02-04', '2024-02-05', '2024-02-06',\n",
       "               '2024-02-07', '2024-02-08', '2024-02-11', '2024-02-12',\n",
       "               '2024-02-13', '2024-02-14', '2024-02-15', '2024-02-18',\n",
       "               '2024-02-19', '2024-02-20', '2024-02-21', '2024-02-22',\n",
       "               '2024-02-25', '2024-02-26', '2024-02-27', '2024-02-28',\n",
       "               '2024-02-29'],\n",
       "              dtype='datetime64[ns]', freq='C')"
      ]
     },
     "execution_count": 20,
     "metadata": {},
     "output_type": "execute_result"
    }
   ],
   "source": [
    "b = CustomBusinessDay(weekmask='Sun Mon Tue Wed Thu')\n",
    "pd.date_range(start='2024-02-01', end='2024-02-29', freq=b)"
   ]
  }
 ],
 "metadata": {
  "kernelspec": {
   "display_name": "base",
   "language": "python",
   "name": "python3"
  },
  "language_info": {
   "codemirror_mode": {
    "name": "ipython",
    "version": 3
   },
   "file_extension": ".py",
   "mimetype": "text/x-python",
   "name": "python",
   "nbconvert_exporter": "python",
   "pygments_lexer": "ipython3",
   "version": "3.10.13"
  }
 },
 "nbformat": 4,
 "nbformat_minor": 2
}
